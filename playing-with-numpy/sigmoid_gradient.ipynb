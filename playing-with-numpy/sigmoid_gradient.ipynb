{
 "cells": [
  {
   "cell_type": "code",
   "execution_count": 1,
   "id": "7728c203",
   "metadata": {},
   "outputs": [
    {
     "name": "stdout",
     "output_type": "stream",
     "text": [
      "sigmoid_derivative(test_x) = [0.01766271 0.00664806 0.00246651]\n"
     ]
    }
   ],
   "source": [
    "import numpy as np\n",
    "def sigmoid_derivative(x):\n",
    "    sigmoid = 1/(1+np.exp(-x))\n",
    "    derivative_sigmoid = sigmoid*(1-sigmoid)\n",
    "    return derivative_sigmoid\n",
    "test_x = np.array([4, 5, 6])\n",
    "print (\"sigmoid_derivative(test_x) = \" + str(sigmoid_derivative(test_x)))"
   ]
  },
  {
   "cell_type": "code",
   "execution_count": null,
   "id": "42133b57",
   "metadata": {},
   "outputs": [],
   "source": []
  }
 ],
 "metadata": {
  "kernelspec": {
   "display_name": "Python 3 (ipykernel)",
   "language": "python",
   "name": "python3"
  },
  "language_info": {
   "codemirror_mode": {
    "name": "ipython",
    "version": 3
   },
   "file_extension": ".py",
   "mimetype": "text/x-python",
   "name": "python",
   "nbconvert_exporter": "python",
   "pygments_lexer": "ipython3",
   "version": "3.9.7"
  }
 },
 "nbformat": 4,
 "nbformat_minor": 5
}
