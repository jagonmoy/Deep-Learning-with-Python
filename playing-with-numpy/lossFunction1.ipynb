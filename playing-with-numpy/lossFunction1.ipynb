{
 "cells": [
  {
   "cell_type": "markdown",
   "id": "2d7f8205",
   "metadata": {},
   "source": [
    "\\begin{align*} & L_1(\\hat{y}, y) = \\sum_{i=0}^{m-1}|y^{(i)} - \\hat{y}^{(i)}| \\end{align*}"
   ]
  },
  {
   "cell_type": "code",
   "execution_count": 2,
   "id": "90b33a18",
   "metadata": {},
   "outputs": [
    {
     "name": "stdout",
     "output_type": "stream",
     "text": [
      "Loss1 = 1.7000000000000002\n"
     ]
    }
   ],
   "source": [
    "import numpy as np\n",
    "def Loss1(yhat, y):\n",
    "    loss = np.sum(abs(yhat-y))\n",
    "    return loss\n",
    "yhat = np.array([.11, 0.23, 0.17, .43, .92])\n",
    "y = np.array([.13, 0.23, 0.5, 1.1, 1.6])\n",
    "print(\"Loss1 = \" + str(Loss1(yhat, y)))"
   ]
  },
  {
   "cell_type": "code",
   "execution_count": null,
   "id": "ae497813",
   "metadata": {},
   "outputs": [],
   "source": []
  }
 ],
 "metadata": {
  "kernelspec": {
   "display_name": "Python 3 (ipykernel)",
   "language": "python",
   "name": "python3"
  },
  "language_info": {
   "codemirror_mode": {
    "name": "ipython",
    "version": 3
   },
   "file_extension": ".py",
   "mimetype": "text/x-python",
   "name": "python",
   "nbconvert_exporter": "python",
   "pygments_lexer": "ipython3",
   "version": "3.9.7"
  }
 },
 "nbformat": 4,
 "nbformat_minor": 5
}
