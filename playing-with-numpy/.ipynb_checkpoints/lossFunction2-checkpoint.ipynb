{
 "cells": [
  {
   "cell_type": "markdown",
   "id": "e7f4e10b",
   "metadata": {},
   "source": [
    "\\begin{align*} & L_2(\\hat{y},y) = \\sum_{i=0}^{m-1}(y^{(i)} - \\hat{y}^{(i)})^2 \\end{align*}"
   ]
  },
  {
   "cell_type": "code",
   "execution_count": 1,
   "id": "dfb35b83",
   "metadata": {},
   "outputs": [
    {
     "name": "stdout",
     "output_type": "stream",
     "text": [
      "Loss2 = 1.0206000000000002\n"
     ]
    }
   ],
   "source": [
    "import numpy as np\n",
    "def Loss2(yhat, y):\n",
    "    loss = np.dot(abs(yhat-y),abs(yhat-y))\n",
    "    return loss\n",
    "yhat = np.array([.11, 0.23, 0.17, .43, .92])\n",
    "y = np.array([.13, 0.23, 0.5, 1.1, 1.6])\n",
    "print(\"Loss2 = \" + str(Loss2(yhat, y)))"
   ]
  },
  {
   "cell_type": "code",
   "execution_count": null,
   "id": "b461cc7a",
   "metadata": {},
   "outputs": [],
   "source": []
  }
 ],
 "metadata": {
  "kernelspec": {
   "display_name": "Python 3 (ipykernel)",
   "language": "python",
   "name": "python3"
  },
  "language_info": {
   "codemirror_mode": {
    "name": "ipython",
    "version": 3
   },
   "file_extension": ".py",
   "mimetype": "text/x-python",
   "name": "python",
   "nbconvert_exporter": "python",
   "pygments_lexer": "ipython3",
   "version": "3.9.7"
  }
 },
 "nbformat": 4,
 "nbformat_minor": 5
}
