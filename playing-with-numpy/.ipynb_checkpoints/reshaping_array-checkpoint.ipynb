{
 "cells": [
  {
   "cell_type": "code",
   "execution_count": 2,
   "id": "fee102e6",
   "metadata": {},
   "outputs": [
    {
     "name": "stdout",
     "output_type": "stream",
     "text": [
      "threeDimToOneDim(threeDimArray) = [[ 1]\n",
      " [ 2]\n",
      " [ 3]\n",
      " [ 4]\n",
      " [ 5]\n",
      " [ 6]\n",
      " [ 7]\n",
      " [ 8]\n",
      " [ 9]\n",
      " [10]\n",
      " [11]\n",
      " [12]\n",
      " [13]\n",
      " [14]\n",
      " [15]\n",
      " [16]\n",
      " [17]\n",
      " [18]]\n"
     ]
    }
   ],
   "source": [
    "import numpy as np\n",
    "def threeDimToOneDim(threeDimArray):\n",
    "    oneDimArray = threeDimArray.reshape((threeDimArray.shape[0]*threeDimArray.shape[1]*threeDimArray.shape[2],1))\n",
    "    return oneDimArray\n",
    "threeDimArray = np.array([[[ 1,  2],\n",
    "                     [ 3,  4],\n",
    "                     [ 5,  6]],\n",
    "                   [[ 7, 8],\n",
    "                    [ 9, 10],\n",
    "                    [ 11, 12]],\n",
    "                   [[ 13, 14],\n",
    "                    [ 15, 16],\n",
    "                    [ 17, 18]]])\n",
    "\n",
    "print (\"threeDimToOneDim(threeDimArray) = \" + str(threeDimToOneDim(threeDimArray)))\n"
   ]
  },
  {
   "cell_type": "code",
   "execution_count": null,
   "id": "237408fc",
   "metadata": {},
   "outputs": [],
   "source": []
  }
 ],
 "metadata": {
  "kernelspec": {
   "display_name": "Python 3 (ipykernel)",
   "language": "python",
   "name": "python3"
  },
  "language_info": {
   "codemirror_mode": {
    "name": "ipython",
    "version": 3
   },
   "file_extension": ".py",
   "mimetype": "text/x-python",
   "name": "python",
   "nbconvert_exporter": "python",
   "pygments_lexer": "ipython3",
   "version": "3.9.7"
  }
 },
 "nbformat": 4,
 "nbformat_minor": 5
}
