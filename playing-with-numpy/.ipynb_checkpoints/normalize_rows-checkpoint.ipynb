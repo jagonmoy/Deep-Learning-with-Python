{
 "cells": [
  {
   "cell_type": "code",
   "execution_count": 1,
   "id": "9c15d182",
   "metadata": {},
   "outputs": [
    {
     "name": "stdout",
     "output_type": "stream",
     "text": [
      "normalizeRows(matrix) = [[0.         0.8        0.6       ]\n",
      " [0.26726124 0.53452248 0.80178373]]\n"
     ]
    }
   ],
   "source": [
    "import numpy as np\n",
    "\n",
    "def normalize_rows(matrix):\n",
    "    matrix_norm = np.linalg.norm(matrix,ord = 2 , axis = 1, keepdims = True)\n",
    "    matrix = matrix / matrix_norm\n",
    "    return matrix\n",
    "matrix = np.array([[0, 8, 6],\n",
    "              [1, 2, 3]])\n",
    "print(\"normalizeRows(matrix) = \" + str(normalize_rows(matrix)))"
   ]
  },
  {
   "cell_type": "code",
   "execution_count": null,
   "id": "0094a0d4",
   "metadata": {},
   "outputs": [],
   "source": []
  }
 ],
 "metadata": {
  "kernelspec": {
   "display_name": "Python 3 (ipykernel)",
   "language": "python",
   "name": "python3"
  },
  "language_info": {
   "codemirror_mode": {
    "name": "ipython",
    "version": 3
   },
   "file_extension": ".py",
   "mimetype": "text/x-python",
   "name": "python",
   "nbconvert_exporter": "python",
   "pygments_lexer": "ipython3",
   "version": "3.9.7"
  }
 },
 "nbformat": 4,
 "nbformat_minor": 5
}
