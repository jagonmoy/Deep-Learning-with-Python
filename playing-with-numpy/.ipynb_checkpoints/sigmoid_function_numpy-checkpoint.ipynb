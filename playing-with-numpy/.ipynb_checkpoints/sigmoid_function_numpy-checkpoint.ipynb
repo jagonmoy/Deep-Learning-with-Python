{
 "cells": [
  {
   "cell_type": "code",
   "execution_count": 2,
   "id": "32617e34",
   "metadata": {},
   "outputs": [
    {
     "name": "stdout",
     "output_type": "stream",
     "text": [
      "sigmoid(test_x) = [0.98201379 0.99752738 0.99966465]\n"
     ]
    }
   ],
   "source": [
    "import numpy as np\n",
    "def sigmoid(x):\n",
    "    res = 1/(1+np.exp(-x))\n",
    "    return res\n",
    "test_x = np.array([4, 6, 8])\n",
    "print(\"sigmoid(test_x) = \" + str(sigmoid(test_x)))"
   ]
  },
  {
   "cell_type": "code",
   "execution_count": null,
   "id": "b79e0919",
   "metadata": {},
   "outputs": [],
   "source": []
  }
 ],
 "metadata": {
  "kernelspec": {
   "display_name": "Python 3 (ipykernel)",
   "language": "python",
   "name": "python3"
  },
  "language_info": {
   "codemirror_mode": {
    "name": "ipython",
    "version": 3
   },
   "file_extension": ".py",
   "mimetype": "text/x-python",
   "name": "python",
   "nbconvert_exporter": "python",
   "pygments_lexer": "ipython3",
   "version": "3.9.7"
  }
 },
 "nbformat": 4,
 "nbformat_minor": 5
}
