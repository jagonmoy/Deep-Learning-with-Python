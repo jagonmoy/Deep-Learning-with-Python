{
 "cells": [
  {
   "cell_type": "code",
   "execution_count": 3,
   "id": "88a35754",
   "metadata": {},
   "outputs": [
    {
     "name": "stdout",
     "output_type": "stream",
     "text": [
      "softmax(test_matrix) = [[1.16562310e-02 3.16849208e-02 8.61285444e-02 2.34121657e-01\n",
      "  6.36408647e-01]\n",
      " [6.64689407e-01 8.99559291e-02 2.22978455e-04 6.06118283e-04\n",
      "  2.44525567e-01]]\n"
     ]
    }
   ],
   "source": [
    "import numpy as np\n",
    "\n",
    "def softmax(matrix):\n",
    "    matrix_exp = np.exp(matrix)\n",
    "    matrix_sum = np.sum(matrix_exp,axis = 1,keepdims = True)\n",
    "    softmax_matrix = matrix_exp/matrix_sum\n",
    "    return softmax_matrix\n",
    "\n",
    "test_matrix = np.array([[1, 2, 3, 4, 5],\n",
    "                [8, 6, 0, 1 ,7]])\n",
    "print(\"softmax(test_matrix) = \" + str(softmax(test_matrix)))\n"
   ]
  },
  {
   "cell_type": "code",
   "execution_count": null,
   "id": "1428e7e5",
   "metadata": {},
   "outputs": [],
   "source": []
  },
  {
   "cell_type": "code",
   "execution_count": null,
   "id": "8eb1b7b9",
   "metadata": {},
   "outputs": [],
   "source": []
  }
 ],
 "metadata": {
  "kernelspec": {
   "display_name": "Python 3 (ipykernel)",
   "language": "python",
   "name": "python3"
  },
  "language_info": {
   "codemirror_mode": {
    "name": "ipython",
    "version": 3
   },
   "file_extension": ".py",
   "mimetype": "text/x-python",
   "name": "python",
   "nbconvert_exporter": "python",
   "pygments_lexer": "ipython3",
   "version": "3.9.7"
  }
 },
 "nbformat": 4,
 "nbformat_minor": 5
}
